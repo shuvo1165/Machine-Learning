{
  "nbformat": 4,
  "nbformat_minor": 0,
  "metadata": {
    "colab": {
      "name": "Understanding Tensor.ipynb",
      "provenance": [],
      "authorship_tag": "ABX9TyPw1co3AB/Uq87lo1X1HYN+",
      "include_colab_link": true
    },
    "kernelspec": {
      "name": "python3",
      "display_name": "Python 3"
    }
  },
  "cells": [
    {
      "cell_type": "markdown",
      "metadata": {
        "id": "view-in-github",
        "colab_type": "text"
      },
      "source": [
        "<a href=\"https://colab.research.google.com/github/shuvo1165/Machine-Learning/blob/main/Understanding_Tensor.ipynb\" target=\"_parent\"><img src=\"https://colab.research.google.com/assets/colab-badge.svg\" alt=\"Open In Colab\"/></a>"
      ]
    },
    {
      "cell_type": "markdown",
      "metadata": {
        "id": "WghUTyzZDzsY"
      },
      "source": [
        "0 Dimansional Tensor (Scaler)"
      ]
    },
    {
      "cell_type": "code",
      "metadata": {
        "id": "73pOmuYJDUOY",
        "outputId": "15362984-e0f1-43bc-93dd-08aff3c0996d",
        "colab": {
          "base_uri": "https://localhost:8080/",
          "height": 35
        }
      },
      "source": [
        "import numpy as np\n",
        "a = np.array(12)\n",
        "a"
      ],
      "execution_count": 2,
      "outputs": [
        {
          "output_type": "execute_result",
          "data": {
            "text/plain": [
              "array(12)"
            ]
          },
          "metadata": {
            "tags": []
          },
          "execution_count": 2
        }
      ]
    },
    {
      "cell_type": "code",
      "metadata": {
        "id": "Oi63Q8ImEJro",
        "outputId": "e6a2c7fc-c7ff-400a-ac6c-6c1a55818455",
        "colab": {
          "base_uri": "https://localhost:8080/",
          "height": 35
        }
      },
      "source": [
        "a.ndim"
      ],
      "execution_count": 3,
      "outputs": [
        {
          "output_type": "execute_result",
          "data": {
            "text/plain": [
              "0"
            ]
          },
          "metadata": {
            "tags": []
          },
          "execution_count": 3
        }
      ]
    },
    {
      "cell_type": "markdown",
      "metadata": {
        "id": "rOqTHraKEQid"
      },
      "source": [
        "1 Diamentional Tensor (Vector)"
      ]
    },
    {
      "cell_type": "code",
      "metadata": {
        "id": "0aQw8OTyEjbe",
        "outputId": "fac202e2-ee23-4705-cce9-fc6ee3806368",
        "colab": {
          "base_uri": "https://localhost:8080/",
          "height": 35
        }
      },
      "source": [
        "b = np.array([12,1,4,5,11])\n",
        "b"
      ],
      "execution_count": 4,
      "outputs": [
        {
          "output_type": "execute_result",
          "data": {
            "text/plain": [
              "array([12,  1,  4,  5, 11])"
            ]
          },
          "metadata": {
            "tags": []
          },
          "execution_count": 4
        }
      ]
    },
    {
      "cell_type": "code",
      "metadata": {
        "id": "DkzQVv2HE4j2",
        "outputId": "35bcc928-6ea0-47dc-d087-2ffdfc3c465b",
        "colab": {
          "base_uri": "https://localhost:8080/",
          "height": 35
        }
      },
      "source": [
        "b.ndim"
      ],
      "execution_count": 5,
      "outputs": [
        {
          "output_type": "execute_result",
          "data": {
            "text/plain": [
              "1"
            ]
          },
          "metadata": {
            "tags": []
          },
          "execution_count": 5
        }
      ]
    },
    {
      "cell_type": "markdown",
      "metadata": {
        "id": "cpsVdQpUE_S4"
      },
      "source": [
        "2 Dimantional Tensor (Matrix)"
      ]
    },
    {
      "cell_type": "code",
      "metadata": {
        "id": "H_VUkGs4FBlW",
        "outputId": "b7fa0249-20eb-46d2-cb31-71d4d7b4f85f",
        "colab": {
          "base_uri": "https://localhost:8080/",
          "height": 72
        }
      },
      "source": [
        "c = np.array([[2,4,6,22],\n",
        "              [11,32,2,3],\n",
        "              [23,76,8,9]])\n",
        "c"
      ],
      "execution_count": 6,
      "outputs": [
        {
          "output_type": "execute_result",
          "data": {
            "text/plain": [
              "array([[ 2,  4,  6, 22],\n",
              "       [11, 32,  2,  3],\n",
              "       [23, 76,  8,  9]])"
            ]
          },
          "metadata": {
            "tags": []
          },
          "execution_count": 6
        }
      ]
    },
    {
      "cell_type": "code",
      "metadata": {
        "id": "mXNfU_rvFsJ2",
        "outputId": "781bcdae-5d26-481b-c837-a69ba7d7979c",
        "colab": {
          "base_uri": "https://localhost:8080/",
          "height": 35
        }
      },
      "source": [
        "c.ndim"
      ],
      "execution_count": 7,
      "outputs": [
        {
          "output_type": "execute_result",
          "data": {
            "text/plain": [
              "2"
            ]
          },
          "metadata": {
            "tags": []
          },
          "execution_count": 7
        }
      ]
    },
    {
      "cell_type": "markdown",
      "metadata": {
        "id": "RJqPJFu6H2Gp"
      },
      "source": [
        "3 Dimensional Tensor"
      ]
    },
    {
      "cell_type": "code",
      "metadata": {
        "id": "mER5QTc9H-yl",
        "outputId": "99374559-20f5-4404-8576-35b7fd390590",
        "colab": {
          "base_uri": "https://localhost:8080/",
          "height": 146
        }
      },
      "source": [
        "d = np.array([[[1,2,3],\n",
        "               [4,5,6],\n",
        "               [1,3,4]],\n",
        "              [[2,4,5],\n",
        "               [3,4,7],\n",
        "               [9,0,5]]])\n",
        "d"
      ],
      "execution_count": 8,
      "outputs": [
        {
          "output_type": "execute_result",
          "data": {
            "text/plain": [
              "array([[[1, 2, 3],\n",
              "        [4, 5, 6],\n",
              "        [1, 3, 4]],\n",
              "\n",
              "       [[2, 4, 5],\n",
              "        [3, 4, 7],\n",
              "        [9, 0, 5]]])"
            ]
          },
          "metadata": {
            "tags": []
          },
          "execution_count": 8
        }
      ]
    },
    {
      "cell_type": "code",
      "metadata": {
        "id": "Ha4fh3QLJFT8"
      },
      "source": [
        ""
      ],
      "execution_count": null,
      "outputs": []
    },
    {
      "cell_type": "code",
      "metadata": {
        "id": "Hl_wAjWGJFVW",
        "outputId": "058de990-39ca-4101-8f42-cc63a4f69cd2",
        "colab": {
          "base_uri": "https://localhost:8080/",
          "height": 35
        }
      },
      "source": [
        "d.ndim"
      ],
      "execution_count": 9,
      "outputs": [
        {
          "output_type": "execute_result",
          "data": {
            "text/plain": [
              "3"
            ]
          },
          "metadata": {
            "tags": []
          },
          "execution_count": 9
        }
      ]
    },
    {
      "cell_type": "markdown",
      "metadata": {
        "id": "okpKM0GHsLRJ"
      },
      "source": [
        "Tensor Matrix Multiplication"
      ]
    },
    {
      "cell_type": "code",
      "metadata": {
        "id": "xrZfEggct6ez"
      },
      "source": [
        "import tensorflow as tf"
      ],
      "execution_count": 2,
      "outputs": []
    },
    {
      "cell_type": "code",
      "metadata": {
        "id": "mWncrhMzsSF5",
        "outputId": "59da9254-452f-4cbc-b35b-88be9b55e78d",
        "colab": {
          "base_uri": "https://localhost:8080/",
          "height": 72
        }
      },
      "source": [
        "e = tf.constant([[3,7],\n",
        "                [1,9]])\n",
        "f = tf.constant([[5],[2]])\n",
        "ef = tf.matmul(e,f)\n",
        "print(('\"e\" \"f\"\\n{0}').format(ef))"
      ],
      "execution_count": 4,
      "outputs": [
        {
          "output_type": "stream",
          "text": [
            "\"e\" \"f\"\n",
            "[[29]\n",
            " [23]]\n"
          ],
          "name": "stdout"
        }
      ]
    },
    {
      "cell_type": "markdown",
      "metadata": {
        "id": "NL_h5_91v9hD"
      },
      "source": [
        "MNIST Dataset Understraning"
      ]
    },
    {
      "cell_type": "code",
      "metadata": {
        "id": "vwPJf_k2wF24",
        "outputId": "078f1f12-dd14-40c1-e639-bf766d422d9a",
        "colab": {
          "base_uri": "https://localhost:8080/",
          "height": 164
        }
      },
      "source": [
        "from tensorflow import keras\n",
        "fashion_mnist = tf.keras.datasets.fashion_mnist\n",
        "(Training_Image, Training_Lebel) , (Test_Image , Test_Lebel) = fashion_mnist.load_data()"
      ],
      "execution_count": 5,
      "outputs": [
        {
          "output_type": "stream",
          "text": [
            "Downloading data from https://storage.googleapis.com/tensorflow/tf-keras-datasets/train-labels-idx1-ubyte.gz\n",
            "32768/29515 [=================================] - 0s 0us/step\n",
            "Downloading data from https://storage.googleapis.com/tensorflow/tf-keras-datasets/train-images-idx3-ubyte.gz\n",
            "26427392/26421880 [==============================] - 1s 0us/step\n",
            "Downloading data from https://storage.googleapis.com/tensorflow/tf-keras-datasets/t10k-labels-idx1-ubyte.gz\n",
            "8192/5148 [===============================================] - 0s 0us/step\n",
            "Downloading data from https://storage.googleapis.com/tensorflow/tf-keras-datasets/t10k-images-idx3-ubyte.gz\n",
            "4423680/4422102 [==============================] - 0s 0us/step\n"
          ],
          "name": "stdout"
        }
      ]
    },
    {
      "cell_type": "code",
      "metadata": {
        "id": "k2VdRKR2ySIY",
        "outputId": "6ae87bd3-d114-4d45-da58-90dd31815bb4",
        "colab": {
          "base_uri": "https://localhost:8080/",
          "height": 35
        }
      },
      "source": [
        "print(Training_Image.ndim)"
      ],
      "execution_count": 6,
      "outputs": [
        {
          "output_type": "stream",
          "text": [
            "3\n"
          ],
          "name": "stdout"
        }
      ]
    },
    {
      "cell_type": "code",
      "metadata": {
        "id": "NqN-BRA0ykdZ",
        "outputId": "a0f36f09-eceb-475f-cd0d-79c8f2db1656",
        "colab": {
          "base_uri": "https://localhost:8080/",
          "height": 35
        }
      },
      "source": [
        "print(Training_Image.shape)"
      ],
      "execution_count": 7,
      "outputs": [
        {
          "output_type": "stream",
          "text": [
            "(60000, 28, 28)\n"
          ],
          "name": "stdout"
        }
      ]
    },
    {
      "cell_type": "markdown",
      "metadata": {
        "id": "FDK3Dk57sLO7"
      },
      "source": [
        ""
      ]
    }
  ]
}