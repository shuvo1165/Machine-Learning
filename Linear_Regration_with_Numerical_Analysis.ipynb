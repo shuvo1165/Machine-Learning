{
  "nbformat": 4,
  "nbformat_minor": 0,
  "metadata": {
    "colab": {
      "name": "Linear Regration with Numerical Analysis.ipynb",
      "provenance": [],
      "authorship_tag": "ABX9TyPv3vXOHRWr8qOI0puImmuH",
      "include_colab_link": true
    },
    "kernelspec": {
      "name": "python3",
      "display_name": "Python 3"
    }
  },
  "cells": [
    {
      "cell_type": "markdown",
      "metadata": {
        "id": "view-in-github",
        "colab_type": "text"
      },
      "source": [
        "<a href=\"https://colab.research.google.com/github/shuvo1165/Machine-Learning/blob/main/Linear_Regration_with_Numerical_Analysis.ipynb\" target=\"_parent\"><img src=\"https://colab.research.google.com/assets/colab-badge.svg\" alt=\"Open In Colab\"/></a>"
      ]
    },
    {
      "cell_type": "code",
      "metadata": {
        "id": "fDSsP4Aea7J5"
      },
      "source": [
        "import os"
      ],
      "execution_count": null,
      "outputs": []
    },
    {
      "cell_type": "code",
      "metadata": {
        "id": "wPH8yzcSb8Kd"
      },
      "source": [
        "import numpy as np\n",
        "import pandas as pd\n",
        "import matplotlib.pyplot as plt\n",
        "import seaborn as sns\n",
        "import warnings\n",
        "warnings.filterwarnings('ignore')\n",
        "sns.set()"
      ],
      "execution_count": null,
      "outputs": []
    },
    {
      "cell_type": "code",
      "metadata": {
        "id": "Su3-fvbbmWre"
      },
      "source": [
        "data = {'Size':[6,8,12,14,18,21],'Price':[350,775,1150,1395,1675,1999]}\n",
        "df = pd.DataFrame(data)"
      ],
      "execution_count": null,
      "outputs": []
    },
    {
      "cell_type": "code",
      "metadata": {
        "id": "jqALEad1nVKH",
        "outputId": "2aeb614a-649c-4430-b31f-e0d04ad7b2ac",
        "colab": {
          "base_uri": "https://localhost:8080/",
          "height": 238
        }
      },
      "source": [
        "df"
      ],
      "execution_count": null,
      "outputs": [
        {
          "output_type": "execute_result",
          "data": {
            "text/html": [
              "<div>\n",
              "<style scoped>\n",
              "    .dataframe tbody tr th:only-of-type {\n",
              "        vertical-align: middle;\n",
              "    }\n",
              "\n",
              "    .dataframe tbody tr th {\n",
              "        vertical-align: top;\n",
              "    }\n",
              "\n",
              "    .dataframe thead th {\n",
              "        text-align: right;\n",
              "    }\n",
              "</style>\n",
              "<table border=\"1\" class=\"dataframe\">\n",
              "  <thead>\n",
              "    <tr style=\"text-align: right;\">\n",
              "      <th></th>\n",
              "      <th>Size</th>\n",
              "      <th>Price</th>\n",
              "    </tr>\n",
              "  </thead>\n",
              "  <tbody>\n",
              "    <tr>\n",
              "      <th>0</th>\n",
              "      <td>6</td>\n",
              "      <td>350</td>\n",
              "    </tr>\n",
              "    <tr>\n",
              "      <th>1</th>\n",
              "      <td>8</td>\n",
              "      <td>775</td>\n",
              "    </tr>\n",
              "    <tr>\n",
              "      <th>2</th>\n",
              "      <td>12</td>\n",
              "      <td>1150</td>\n",
              "    </tr>\n",
              "    <tr>\n",
              "      <th>3</th>\n",
              "      <td>14</td>\n",
              "      <td>1395</td>\n",
              "    </tr>\n",
              "    <tr>\n",
              "      <th>4</th>\n",
              "      <td>18</td>\n",
              "      <td>1675</td>\n",
              "    </tr>\n",
              "    <tr>\n",
              "      <th>5</th>\n",
              "      <td>21</td>\n",
              "      <td>1999</td>\n",
              "    </tr>\n",
              "  </tbody>\n",
              "</table>\n",
              "</div>"
            ],
            "text/plain": [
              "   Size  Price\n",
              "0     6    350\n",
              "1     8    775\n",
              "2    12   1150\n",
              "3    14   1395\n",
              "4    18   1675\n",
              "5    21   1999"
            ]
          },
          "metadata": {
            "tags": []
          },
          "execution_count": 7
        }
      ]
    },
    {
      "cell_type": "code",
      "metadata": {
        "id": "vwLdqH9zncPn",
        "outputId": "ebdf646c-7ce3-41a9-9eb2-68e9321f5877",
        "colab": {
          "base_uri": "https://localhost:8080/",
          "height": 400
        }
      },
      "source": [
        "sns.lmplot(data=df, x='Size', y='Price')"
      ],
      "execution_count": null,
      "outputs": [
        {
          "output_type": "execute_result",
          "data": {
            "text/plain": [
              "<seaborn.axisgrid.FacetGrid at 0x7f2f720ba668>"
            ]
          },
          "metadata": {
            "tags": []
          },
          "execution_count": 8
        },
        {
          "output_type": "display_data",
          "data": {
            "image/png": "[encoded data removed]",
            "text/plain": [
              "<Figure size 360x360 with 1 Axes>"
            ]
          },
          "metadata": {
            "tags": []
          }
        }
      ]
    },
    {
      "cell_type": "code",
      "metadata": {
        "id": "g4zqrcJoJUu2"
      },
      "source": [
        "df['Size_Price'] = df.Size*df.Price\n",
        "df['Size_Squared'] = df.Size ** 2\n",
        "#print(df.Size_Price,df.Size_Squared)"
      ],
      "execution_count": null,
      "outputs": []
    },
    {
      "cell_type": "code",
      "metadata": {
        "id": "kYmDqVi9K1vq",
        "outputId": "ca2e56f4-0700-4b02-c140-51154cf72607",
        "colab": {
          "base_uri": "https://localhost:8080/",
          "height": 35
        }
      },
      "source": [
        "Size_bar = np.sum(df.Size) / len(df.Size)\n",
        "Price_bar = np.sum(df.Price) / len(df.Price)\n",
        "Size_Price_bar = np.sum(df.Size_Price) / len(df.Size_Price)\n",
        "Size_Squared_bar = np.sum(df.Size_Squared) / len(df.Size_Squared)\n",
        "print(Size_bar, Price_bar,Size_Price_bar, Size_Squared_bar)"
      ],
      "execution_count": null,
      "outputs": [
        {
          "output_type": "stream",
          "text": [
            "13.166666666666666 1224.0 18959.833333333332 200.83333333333334\n"
          ],
          "name": "stdout"
        }
      ]
    },
    {
      "cell_type": "code",
      "metadata": {
        "id": "0Xu1oZdALi9I",
        "outputId": "4ef2d33a-5811-476e-fa3b-7c1978281b1a",
        "colab": {
          "base_uri": "https://localhost:8080/",
          "height": 35
        }
      },
      "source": [
        "m = ((Size_bar*Price_bar)- Size_Price_bar)/((Size_bar**2) - Size_Squared_bar)\n",
        "m"
      ],
      "execution_count": null,
      "outputs": [
        {
          "output_type": "execute_result",
          "data": {
            "text/plain": [
              "103.51668351870559"
            ]
          },
          "metadata": {
            "tags": []
          },
          "execution_count": 11
        }
      ]
    },
    {
      "cell_type": "code",
      "metadata": {
        "id": "qAz7VzGuMfrO",
        "outputId": "67d0965e-91b6-429a-b426-efa56dbabcb7",
        "colab": {
          "base_uri": "https://localhost:8080/",
          "height": 35
        }
      },
      "source": [
        "c = Price_bar - m*Size_bar\n",
        "c"
      ],
      "execution_count": null,
      "outputs": [
        {
          "output_type": "execute_result",
          "data": {
            "text/plain": [
              "-138.96966632962358"
            ]
          },
          "metadata": {
            "tags": []
          },
          "execution_count": 12
        }
      ]
    },
    {
      "cell_type": "code",
      "metadata": {
        "id": "x5Z-wSlnMxa2",
        "outputId": "0109d3b2-9627-4974-d32b-401de65542eb",
        "colab": {
          "base_uri": "https://localhost:8080/",
          "height": 54
        }
      },
      "source": [
        "def y(m,x,c):\n",
        "    return m * x + c\n",
        "print(y(m, 17, c))\n",
        "print(y(m,16,c))"
      ],
      "execution_count": null,
      "outputs": [
        {
          "output_type": "stream",
          "text": [
            "1620.8139534883715\n",
            "1517.2972699696659\n"
          ],
          "name": "stdout"
        }
      ]
    },
    {
      "cell_type": "code",
      "metadata": {
        "id": "fC0ZkOghlaBb",
        "outputId": "d27932e0-f573-4f8d-ad9e-43ca2cfe0811",
        "colab": {
          "base_uri": "https://localhost:8080/",
          "height": 35
        }
      },
      "source": [
        "R_value = []\n",
        "for i in range(df.shape[0]):\n",
        "    R_value.append(y(m,df.Size[i], c))\n",
        "print(R_value)\n",
        "df['R_value'] = R_value"
      ],
      "execution_count": null,
      "outputs": [
        {
          "output_type": "stream",
          "text": [
            "[482.13043478261, 689.1638018200211, 1103.2305358948436, 1310.2639029322547, 1724.330637007077, 2034.880687563194]\n"
          ],
          "name": "stdout"
        }
      ]
    },
    {
      "cell_type": "code",
      "metadata": {
        "id": "M123hesamKi8",
        "outputId": "9e1603ce-a334-448f-c81f-f39b6860a065",
        "colab": {
          "base_uri": "https://localhost:8080/",
          "height": 55
        }
      },
      "source": [
        "def R_Squared_Value(y, y_bar, y_cap):\n",
        "    upper = []\n",
        "    lower = []\n",
        "    for i in range(y_cap.shape[0]):\n",
        "        upper.append((y_cap[i] - y_bar) ** 2)\n",
        "        lower.append((y[i] - y_bar) ** 2)\n",
        "    return np.sum(upper) / np.sum(lower), upper, lower\n",
        "R_square = R_Squared_Value(df.Price, Price_bar, df.R_value)\n",
        "print(r\"R^2 Value is {0:.2f}% and the Upper value is {1} and Lower Value is {2}\".format(R_square[0], R_square[1],R_square[2]))"
      ],
      "execution_count": null,
      "outputs": [
        {
          "output_type": "stream",
          "text": [
            "R^2 Value is 0.98% and the Upper value is [550370.4517958392, 286049.7588836136, 14585.263460246668, 7441.460949105465, 250330.7463279075, 657527.4894629582] and Lower Value is [763876.0, 201601.0, 5476.0, 29241.0, 203401.0, 600625.0]\n"
          ],
          "name": "stdout"
        }
      ]
    }
  ]
}