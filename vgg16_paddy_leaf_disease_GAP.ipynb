{
  "nbformat": 4,
  "nbformat_minor": 0,
  "metadata": {
    "colab": {
      "name": "vgg16-paddy-leaf-disease_GAP.ipynb",
      "provenance": [],
      "mount_file_id": "1e1JcpauwX7ougVOttN9aWDONkGjG3csV",
      "authorship_tag": "ABX9TyPfa3NNa3fmCKhoK9P0Q8xG",
      "include_colab_link": true
    },
    "kernelspec": {
      "name": "python3",
      "display_name": "Python 3"
    },
    "accelerator": "GPU"
  },
  "cells": [
    {
      "cell_type": "markdown",
      "metadata": {
        "id": "view-in-github",
        "colab_type": "text"
      },
      "source": [
        "<a href=\"https://colab.research.google.com/github/shuvo1165/Machine-Learning/blob/main/vgg16_paddy_leaf_disease_GAP.ipynb\" target=\"_parent\"><img src=\"https://colab.research.google.com/assets/colab-badge.svg\" alt=\"Open In Colab\"/></a>"
      ]
    },
    {
      "cell_type": "code",
      "metadata": {
        "id": "OAxQZ6Q3t3s1"
      },
      "source": [
        "import tensorflow as tf\n",
        "from tensorflow.keras import layers\n",
        "import tensorflow_datasets as tfds\n",
        "import matplotlib.pylab as plt"
      ],
      "execution_count": 17,
      "outputs": []
    },
    {
      "cell_type": "code",
      "metadata": {
        "id": "e5L9L2J8wJuv"
      },
      "source": [
        "%load_ext tensorboard\n",
        "from tensorflow.keras.callbacks import TensorBoard\n",
        "log_dir='log/'\n",
        "!rm -rf log/"
      ],
      "execution_count": 2,
      "outputs": []
    },
    {
      "cell_type": "code",
      "metadata": {
        "id": "2ZVOMUMkwZql"
      },
      "source": [
        "IMAGE_SHAPE = (224, 224,  3)\n",
        "\n",
        "train_path = '/content/drive/My Drive/Kaggle/train'\n",
        "valid_path = '/content/drive/My Drive/Kaggle/test'"
      ],
      "execution_count": 3,
      "outputs": []
    },
    {
      "cell_type": "code",
      "metadata": {
        "id": "QihehynqxBtG"
      },
      "source": [
        "vgg16 = tf.keras.applications.vgg16.VGG16(weights='imagenet', include_top=False, input_shape=IMAGE_SHAPE)"
      ],
      "execution_count": 21,
      "outputs": []
    },
    {
      "cell_type": "code",
      "metadata": {
        "id": "N685Ov3gxLrP"
      },
      "source": [
        "vgg16.trainable = False"
      ],
      "execution_count": 22,
      "outputs": []
    },
    {
      "cell_type": "code",
      "metadata": {
        "id": "yViQaxlCxPWm"
      },
      "source": [
        "global_average_layer = layers.GlobalAveragePooling2D()\n",
        "output_layer = layers.Dense(3, activation='softmax')"
      ],
      "execution_count": 23,
      "outputs": []
    },
    {
      "cell_type": "code",
      "metadata": {
        "id": "zs7yA04vxh9G"
      },
      "source": [
        "vgg16_model = tf.keras.Sequential([\n",
        "  vgg16,\n",
        "  global_average_layer,\n",
        "  output_layer\n",
        "])"
      ],
      "execution_count": 24,
      "outputs": []
    },
    {
      "cell_type": "code",
      "metadata": {
        "id": "6qS_8I7QxrLb"
      },
      "source": [
        "vgg16_model.compile(optimizer=tf.keras.optimizers.Adam(),\n",
        "              loss='categorical_crossentropy',\n",
        "              metrics=['accuracy'])"
      ],
      "execution_count": 25,
      "outputs": []
    },
    {
      "cell_type": "code",
      "metadata": {
        "id": "Jow_5aZcyJIY"
      },
      "source": [
        "from tensorflow.keras.preprocessing.image import ImageDataGenerator\n",
        "\n",
        "train_datagen = ImageDataGenerator(rescale = 1./255,\n",
        "                                   shear_range = 0.2,\n",
        "                                   zoom_range = 0.2,\n",
        "                                   horizontal_flip = True)\n",
        "\n",
        "test_datagen = ImageDataGenerator(rescale = 1./255)"
      ],
      "execution_count": 26,
      "outputs": []
    },
    {
      "cell_type": "code",
      "metadata": {
        "id": "vnuj0yRhyZXO",
        "outputId": "8445d7a0-c815-4138-d0c1-065938dcaabc",
        "colab": {
          "base_uri": "https://localhost:8080/"
        }
      },
      "source": [
        "training_set = train_datagen.flow_from_directory(train_path,\n",
        "                                                 target_size = (224, 224),\n",
        "                                                 batch_size = 32,\n",
        "                                                 class_mode = 'categorical')\n"
      ],
      "execution_count": 27,
      "outputs": [
        {
          "output_type": "stream",
          "text": [
            "Found 911 images belonging to 3 classes.\n"
          ],
          "name": "stdout"
        }
      ]
    },
    {
      "cell_type": "code",
      "metadata": {
        "id": "mIfAihf0yrAQ",
        "outputId": "e2ad71a3-1c07-4a0f-bcc1-34397c6bf18a",
        "colab": {
          "base_uri": "https://localhost:8080/"
        }
      },
      "source": [
        "test_set = test_datagen.flow_from_directory(valid_path,\n",
        "                                            target_size = (224, 224),\n",
        "                                            batch_size = 32,\n",
        "                                            class_mode = 'categorical')"
      ],
      "execution_count": 28,
      "outputs": [
        {
          "output_type": "stream",
          "text": [
            "Found 164 images belonging to 3 classes.\n"
          ],
          "name": "stdout"
        }
      ]
    },
    {
      "cell_type": "code",
      "metadata": {
        "id": "LCIBcoSoy4dV"
      },
      "source": [
        "import datetime as dt"
      ],
      "execution_count": 29,
      "outputs": []
    },
    {
      "cell_type": "code",
      "metadata": {
        "id": "Bljv_0BayxOm"
      },
      "source": [
        "callbacks = [tf.keras.callbacks.TensorBoard(log_dir='log/{}'.format(dt.datetime.now().strftime(\"%Y-%m-%d-%H-%M-%S\")))]"
      ],
      "execution_count": 30,
      "outputs": []
    },
    {
      "cell_type": "code",
      "metadata": {
        "id": "O_r5IaWjzDOV",
        "outputId": "70dac40d-46a2-4a78-838c-2374f8e8810c",
        "colab": {
          "base_uri": "https://localhost:8080/"
        }
      },
      "source": [
        "vgg16_transfer_paddy_leaf = vgg16_model.fit(\n",
        "  training_set,\n",
        "  validation_data=test_set,\n",
        "  epochs=10,\n",
        "  steps_per_epoch=len(training_set),\n",
        "  validation_steps=len(test_set),\n",
        "  callbacks=callbacks\n",
        ")"
      ],
      "execution_count": 31,
      "outputs": [
        {
          "output_type": "stream",
          "text": [
            "Epoch 1/10\n",
            " 1/29 [>.............................] - ETA: 0s - loss: 1.1544 - accuracy: 0.3438WARNING:tensorflow:From /usr/local/lib/python3.6/dist-packages/tensorflow/python/ops/summary_ops_v2.py:1277: stop (from tensorflow.python.eager.profiler) is deprecated and will be removed after 2020-07-01.\n",
            "Instructions for updating:\n",
            "use `tf.profiler.experimental.stop` instead.\n",
            "29/29 [==============================] - 36s 1s/step - loss: 1.0709 - accuracy: 0.4336 - val_loss: 1.0399 - val_accuracy: 0.5488\n",
            "Epoch 2/10\n",
            "29/29 [==============================] - 36s 1s/step - loss: 0.9947 - accuracy: 0.6279 - val_loss: 0.9820 - val_accuracy: 0.6159\n",
            "Epoch 3/10\n",
            "29/29 [==============================] - 36s 1s/step - loss: 0.9342 - accuracy: 0.6883 - val_loss: 0.9361 - val_accuracy: 0.5732\n",
            "Epoch 4/10\n",
            "29/29 [==============================] - 36s 1s/step - loss: 0.8817 - accuracy: 0.7047 - val_loss: 0.8936 - val_accuracy: 0.6220\n",
            "Epoch 5/10\n",
            "29/29 [==============================] - 36s 1s/step - loss: 0.8380 - accuracy: 0.7311 - val_loss: 0.8575 - val_accuracy: 0.6646\n",
            "Epoch 6/10\n",
            "29/29 [==============================] - 36s 1s/step - loss: 0.8083 - accuracy: 0.7366 - val_loss: 0.8264 - val_accuracy: 0.6646\n",
            "Epoch 7/10\n",
            "29/29 [==============================] - 37s 1s/step - loss: 0.7724 - accuracy: 0.7673 - val_loss: 0.7993 - val_accuracy: 0.6707\n",
            "Epoch 8/10\n",
            "29/29 [==============================] - 37s 1s/step - loss: 0.7450 - accuracy: 0.7684 - val_loss: 0.7718 - val_accuracy: 0.6829\n",
            "Epoch 9/10\n",
            "29/29 [==============================] - 37s 1s/step - loss: 0.7163 - accuracy: 0.7870 - val_loss: 0.7509 - val_accuracy: 0.6829\n",
            "Epoch 10/10\n",
            "29/29 [==============================] - 36s 1s/step - loss: 0.6859 - accuracy: 0.7859 - val_loss: 0.7320 - val_accuracy: 0.7195\n"
          ],
          "name": "stdout"
        }
      ]
    },
    {
      "cell_type": "code",
      "metadata": {
        "id": "cJwzKXb_3mhu"
      },
      "source": [
        ""
      ],
      "execution_count": null,
      "outputs": []
    }
  ]
}